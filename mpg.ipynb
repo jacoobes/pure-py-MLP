{
 "cells": [
  {
   "cell_type": "code",
   "execution_count": 1,
   "id": "1dbf7723-3e84-4184-8f9f-57b4519a684e",
   "metadata": {},
   "outputs": [
    {
     "name": "stdout",
     "output_type": "stream",
     "text": [
      "Requirement already satisfied: certifi==2025.1.31 in c:\\users\\jngu195\\cs4700\\cs4700-project1\\.venv\\lib\\site-packages (from -r requirements.txt (line 1)) (2025.1.31)\n",
      "Requirement already satisfied: contourpy==1.3.1 in c:\\users\\jngu195\\cs4700\\cs4700-project1\\.venv\\lib\\site-packages (from -r requirements.txt (line 2)) (1.3.1)\n",
      "Requirement already satisfied: cycler==0.12.1 in c:\\users\\jngu195\\cs4700\\cs4700-project1\\.venv\\lib\\site-packages (from -r requirements.txt (line 3)) (0.12.1)\n",
      "Requirement already satisfied: fonttools==4.56.0 in c:\\users\\jngu195\\cs4700\\cs4700-project1\\.venv\\lib\\site-packages (from -r requirements.txt (line 4)) (4.56.0)\n",
      "Requirement already satisfied: joblib==1.4.2 in c:\\users\\jngu195\\cs4700\\cs4700-project1\\.venv\\lib\\site-packages (from -r requirements.txt (line 5)) (1.4.2)\n",
      "Requirement already satisfied: kiwisolver==1.4.8 in c:\\users\\jngu195\\cs4700\\cs4700-project1\\.venv\\lib\\site-packages (from -r requirements.txt (line 6)) (1.4.8)\n",
      "Requirement already satisfied: matplotlib==3.10.0 in c:\\users\\jngu195\\cs4700\\cs4700-project1\\.venv\\lib\\site-packages (from -r requirements.txt (line 7)) (3.10.0)\n",
      "Requirement already satisfied: numpy==2.2.1 in c:\\users\\jngu195\\cs4700\\cs4700-project1\\.venv\\lib\\site-packages (from -r requirements.txt (line 8)) (2.2.1)\n",
      "Requirement already satisfied: packaging==24.2 in c:\\users\\jngu195\\cs4700\\cs4700-project1\\.venv\\lib\\site-packages (from -r requirements.txt (line 9)) (24.2)\n",
      "Requirement already satisfied: pandas==2.2.3 in c:\\users\\jngu195\\cs4700\\cs4700-project1\\.venv\\lib\\site-packages (from -r requirements.txt (line 10)) (2.2.3)\n",
      "Requirement already satisfied: pillow==11.1.0 in c:\\users\\jngu195\\cs4700\\cs4700-project1\\.venv\\lib\\site-packages (from -r requirements.txt (line 11)) (11.1.0)\n",
      "Requirement already satisfied: pyparsing==3.2.1 in c:\\users\\jngu195\\cs4700\\cs4700-project1\\.venv\\lib\\site-packages (from -r requirements.txt (line 12)) (3.2.1)\n",
      "Requirement already satisfied: python-dateutil==2.9.0.post0 in c:\\users\\jngu195\\cs4700\\cs4700-project1\\.venv\\lib\\site-packages (from -r requirements.txt (line 13)) (2.9.0.post0)\n",
      "Requirement already satisfied: pytz==2025.1 in c:\\users\\jngu195\\cs4700\\cs4700-project1\\.venv\\lib\\site-packages (from -r requirements.txt (line 14)) (2025.1)\n",
      "Requirement already satisfied: scikit-learn==1.6.1 in c:\\users\\jngu195\\cs4700\\cs4700-project1\\.venv\\lib\\site-packages (from -r requirements.txt (line 15)) (1.6.1)\n",
      "Requirement already satisfied: scipy==1.15.2 in c:\\users\\jngu195\\cs4700\\cs4700-project1\\.venv\\lib\\site-packages (from -r requirements.txt (line 16)) (1.15.2)\n",
      "Requirement already satisfied: six==1.17.0 in c:\\users\\jngu195\\cs4700\\cs4700-project1\\.venv\\lib\\site-packages (from -r requirements.txt (line 17)) (1.17.0)\n",
      "Requirement already satisfied: threadpoolctl==3.5.0 in c:\\users\\jngu195\\cs4700\\cs4700-project1\\.venv\\lib\\site-packages (from -r requirements.txt (line 18)) (3.5.0)\n",
      "Requirement already satisfied: tzdata==2025.1 in c:\\users\\jngu195\\cs4700\\cs4700-project1\\.venv\\lib\\site-packages (from -r requirements.txt (line 19)) (2025.1)\n",
      "Requirement already satisfied: ucimlrepo==0.0.7 in c:\\users\\jngu195\\cs4700\\cs4700-project1\\.venv\\lib\\site-packages (from -r requirements.txt (line 20)) (0.0.7)\n"
     ]
    },
    {
     "name": "stderr",
     "output_type": "stream",
     "text": [
      "\n",
      "[notice] A new release of pip is available: 24.0 -> 25.0.1\n",
      "[notice] To update, run: python.exe -m pip install --upgrade pip\n"
     ]
    }
   ],
   "source": [
    "!pip install -r requirements.txt"
   ]
  },
  {
   "cell_type": "code",
   "execution_count": 1,
   "id": "ab379220-6fca-4417-8b39-e26039c4a22c",
   "metadata": {},
   "outputs": [],
   "source": [
    "import numpy as np\n",
    "import pandas as pd\n",
    "from itertools import chain, combinations\n",
    "from mlp import Layer, LeakyRelu, Linear, MultilayerPerceptron, Relu, Sigmoid, Softmax, SquaredError\n",
    "from sklearn.model_selection import train_test_split\n",
    "from ucimlrepo import fetch_ucirepo"
   ]
  },
  {
   "cell_type": "code",
   "execution_count": 2,
   "id": "e47812d8-8f8e-4b6a-8dff-bccf589b4e0e",
   "metadata": {},
   "outputs": [],
   "source": [
    "def get_mpg_dataset():\n",
    "    # fetch dataset\n",
    "    auto_mpg = fetch_ucirepo(id=9)\n",
    "\n",
    "    # data (as pandas dataframes)\n",
    "    X = auto_mpg.data.features\n",
    "    y = auto_mpg.data.targets\n",
    "\n",
    "    # Combine features and target into one DataFrame for easy filtering\n",
    "    data = pd.concat([X, y], axis=1)\n",
    "\n",
    "    # Drop rows where the target variable is NaN\n",
    "    cleaned_data = data.dropna()\n",
    "\n",
    "    # Split the data back into features (X) and target (y)\n",
    "    X = cleaned_data.iloc[:, :-1]\n",
    "    y = cleaned_data.iloc[:, -1]\n",
    "\n",
    "    # Display the number of rows removed\n",
    "    rows_removed = len(data) - len(cleaned_data)\n",
    "    print(f\"Rows removed: {rows_removed}\")   \n",
    "    # Do a 70/30 split (e.g., 70% train, 30% other)\n",
    "    X_train, X_leftover, y_train, y_leftover = train_test_split(\n",
    "        X, y,\n",
    "        test_size=0.3,\n",
    "        random_state=42,    # for reproducibility\n",
    "        shuffle=True,       # whether to shuffle the data before splitting\n",
    "    )\n",
    "\n",
    "    # Split the remaining 30% into validation/testing (15%/15%)\n",
    "    X_val, X_test, y_val, y_test = train_test_split(\n",
    "        X_leftover, y_leftover,\n",
    "        test_size=0.5,\n",
    "        random_state=42,\n",
    "        shuffle=True,\n",
    "    )\n",
    "\n",
    "    # Compute statistics for X (features)\n",
    "    X_mean = X_train.mean(axis=0)  # Mean of each feature\n",
    "    X_std = X_train.std(axis=0)    # Standard deviation of each feature\n",
    "\n",
    "    # Standardize X\n",
    "    X_train = (X_train - X_mean) / X_std\n",
    "    X_val = (X_val - X_mean) / X_std\n",
    "    X_test = (X_test - X_mean) / X_std\n",
    "\n",
    "    # Compute statistics for y (targets)\n",
    "    y_mean = y_train.mean()  # Mean of target\n",
    "    y_std = y_train.std()    # Standard deviation of target\n",
    "\n",
    "    # Standardize y\n",
    "    y_train = (y_train - y_mean) / y_std\n",
    "    y_val = (y_val - y_mean) / y_std\n",
    "    y_test = (y_test - y_mean) / y_std\n",
    "    return X_train,y_train, X_val, y_val, X_test, y_test\n",
    "\n"
   ]
  },
  {
   "cell_type": "code",
   "execution_count": 65,
   "id": "ccc8c222-e46c-4a8d-9ff0-44107ce8b7fa",
   "metadata": {},
   "outputs": [
    {
     "name": "stdout",
     "output_type": "stream",
     "text": [
      "Rows removed: 6\n",
      "weights shape (7, 1)\n",
      "bias shape (1,)\n"
     ]
    }
   ],
   "source": [
    "X_train,y_train, X_val, y_val, X_test, y_test = get_mpg_dataset()\n",
    "activation = Linear()\n",
    "model = MultilayerPerceptron(\n",
    "    layers=[\n",
    "        Layer(fan_in=7, fan_out=1, activation_function=activation),\n",
    "    ]\n",
    ")"
   ]
  },
  {
   "cell_type": "code",
   "execution_count": 66,
   "id": "9c89c6b8-4826-442e-be8a-b1d92ee7efc7",
   "metadata": {},
   "outputs": [
    {
     "name": "stdout",
     "output_type": "stream",
     "text": [
      "Epoch :: 1 :: Train Loss= 0.38153509645230227 :: Val Loss 0.26948710532728576\n",
      "Epoch :: 2 :: Train Loss= 0.1941119143240661 :: Val Loss 0.1504840297983546\n",
      "Epoch :: 3 :: Train Loss= 0.11697126978838529 :: Val Loss 0.10101872833528217\n",
      "Epoch :: 4 :: Train Loss= 0.08266840556855833 :: Val Loss 0.07937770736503459\n",
      "Epoch :: 5 :: Train Loss= 0.07032582675863262 :: Val Loss 0.0734545762174917\n",
      "Epoch :: 6 :: Train Loss= 0.06398976737570376 :: Val Loss 0.06379466595841236\n",
      "Epoch :: 7 :: Train Loss= 0.062274439324479264 :: Val Loss 0.0630220839536067\n",
      "Epoch :: 8 :: Train Loss= 0.05886473013746021 :: Val Loss 0.06145593352921219\n",
      "Epoch :: 9 :: Train Loss= 0.06091230052319589 :: Val Loss 0.05941220766597214\n",
      "Epoch :: 10 :: Train Loss= 0.05667945855818937 :: Val Loss 0.05837225452884796\n",
      "Epoch :: 11 :: Train Loss= 0.056424832644719994 :: Val Loss 0.05943642026938373\n",
      "Epoch :: 12 :: Train Loss= 0.05782637539181819 :: Val Loss 0.057644746975778226\n",
      "Epoch :: 13 :: Train Loss= 0.05553401194859011 :: Val Loss 0.057600937954280604\n",
      "Epoch :: 14 :: Train Loss= 0.0572845004770125 :: Val Loss 0.057090895167497234\n",
      "Epoch :: 15 :: Train Loss= 0.056320270043289884 :: Val Loss 0.05590877245355775\n",
      "Epoch :: 16 :: Train Loss= 0.055876119661984844 :: Val Loss 0.05786983918479043\n",
      "Epoch :: 17 :: Train Loss= 0.054161888502164836 :: Val Loss 0.05570062299740771\n",
      "Epoch :: 18 :: Train Loss= 0.054424467814944075 :: Val Loss 0.0538140982232959\n",
      "Epoch :: 19 :: Train Loss= 0.05437702872307209 :: Val Loss 0.05636486074602615\n",
      "Epoch :: 20 :: Train Loss= 0.05573849638602724 :: Val Loss 0.05543142131738432\n",
      "Epoch :: 21 :: Train Loss= 0.053888275210834766 :: Val Loss 0.05470713004759722\n",
      "Epoch :: 22 :: Train Loss= 0.05454409338202797 :: Val Loss 0.05607431475263373\n",
      "Epoch :: 23 :: Train Loss= 0.0523680889160394 :: Val Loss 0.0558953994600743\n",
      "Epoch :: 24 :: Train Loss= 0.053126297494570346 :: Val Loss 0.054890591558441997\n",
      "Epoch :: 25 :: Train Loss= 0.05288565381198464 :: Val Loss 0.05552255195131044\n",
      "Epoch :: 26 :: Train Loss= 0.05363522912240154 :: Val Loss 0.053691727239378\n",
      "Epoch :: 27 :: Train Loss= 0.05209548862596795 :: Val Loss 0.052293624002688506\n",
      "Epoch :: 28 :: Train Loss= 0.052955856631247605 :: Val Loss 0.05243788515069869\n",
      "Epoch :: 29 :: Train Loss= 0.050880239749249614 :: Val Loss 0.05533527234096422\n",
      "Epoch :: 30 :: Train Loss= 0.050955843164483886 :: Val Loss 0.051508845045424925\n",
      "Epoch :: 31 :: Train Loss= 0.052520309727994714 :: Val Loss 0.05113317371720399\n",
      "Epoch :: 32 :: Train Loss= 0.051427558841918894 :: Val Loss 0.052512173834130496\n"
     ]
    }
   ],
   "source": [
    "loss = SquaredError()\n",
    "training_losses, validation_losses = model.train( \n",
    "    train_x=X_train.to_numpy(),\n",
    "    train_y=y_train.to_numpy().reshape(-1, 1),\n",
    "    val_x=X_val.to_numpy(),\n",
    "    val_y=y_val.to_numpy().reshape(-1,1),\n",
    "    loss_func=loss,\n",
    "    learning_rate=1E-3,\n",
    "    epochs=32\n",
    ")\n",
    "\n"
   ]
  },
  {
   "cell_type": "code",
   "execution_count": 67,
   "id": "90b268e1-18ec-49ad-a15b-30b40db3a221",
   "metadata": {},
   "outputs": [
    {
     "data": {
      "text/plain": [
       "<matplotlib.legend.Legend at 0x168bdcad490>"
      ]
     },
     "execution_count": 67,
     "metadata": {},
     "output_type": "execute_result"
    },
    {
     "data": {
      "image/png": "[encoded data removed]",
      "text/plain": [
       "<Figure size 640x480 with 1 Axes>"
      ]
     },
     "metadata": {},
     "output_type": "display_data"
    }
   ],
   "source": [
    "import matplotlib.pyplot as plt\n",
    "\n",
    "plt.plot(training_losses, color='b', label='Training')\n",
    "plt.plot(validation_losses, color='r', label=\"Validation\")\n",
    "plt.title(\"Loss Curve\", size=16)\n",
    "plt.legend()"
   ]
  },
  {
   "cell_type": "code",
   "execution_count": 68,
   "id": "d2013d50-2461-4f43-bd7d-5cd7e1a18e1a",
   "metadata": {},
   "outputs": [
    {
     "name": "stdout",
     "output_type": "stream",
     "text": [
      "Total testing loss 2.3375841350833184\n"
     ]
    }
   ],
   "source": [
    "print(\"Total testing loss\", np.sum(training_losses))"
   ]
  },
  {
   "cell_type": "code",
   "execution_count": 69,
   "id": "2336c8d9-04ad-4de7-8ec0-2cdb033cf5d7",
   "metadata": {},
   "outputs": [
    {
     "name": "stdout",
     "output_type": "stream",
     "text": [
      "Predicted: -0.27546595261698986 true: -0.4537806529217186\n",
      "Predicted: -0.8423231208267609 true: -0.9527709163933785\n",
      "Predicted: 0.5876918080343048 true: 0.4194523081536862\n",
      "Predicted: -1.9147001652313256 true: -1.3270136139971234\n",
      "Predicted: -0.21770731034508375 true: -0.32903308705380363\n",
      "Predicted: -0.4795527600057331 true: -0.5286291924424678\n",
      "Predicted: -1.9164806683468414 true: -1.0775184822612935\n",
      "Predicted: -1.5185638855424592 true: -1.0775184822612935\n",
      "Predicted: 0.26087158939290533 true: -0.16686125142551406\n",
      "Predicted: 0.5462694147796829 true: -0.7032757846575485\n"
     ]
    }
   ],
   "source": [
    "for img, lbl in zip(X_test.values[:10], y_test[:10]):\n",
    "    m =model.forward(img)[0]\n",
    "    print(\"Predicted:\", m, \"true:\", lbl)\n"
   ]
  },
  {
   "cell_type": "code",
   "execution_count": null,
   "id": "303496be-d0a2-4360-937f-ac3e9bb2603a",
   "metadata": {},
   "outputs": [],
   "source": []
  }
 ],
 "metadata": {
  "kernelspec": {
   "display_name": "Python 3 (ipykernel)",
   "language": "python",
   "name": "python3"
  },
  "language_info": {
   "codemirror_mode": {
    "name": "ipython",
    "version": 3
   },
   "file_extension": ".py",
   "mimetype": "text/x-python",
   "name": "python",
   "nbconvert_exporter": "python",
   "pygments_lexer": "ipython3",
   "version": "3.12.4"
  }
 },
 "nbformat": 4,
 "nbformat_minor": 5
}
